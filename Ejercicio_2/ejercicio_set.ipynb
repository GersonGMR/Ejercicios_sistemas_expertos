{
 "cells": [
  {
   "cell_type": "markdown",
   "metadata": {},
   "source": [
    "Optimizacion de Codigo, Ejemplo 1: Identificacion de Ventas en un periodo\n",
    "Generar metricas de desempeño es una tarea muy frecuente en cualquier ambito de negocio, el siguiente codigo fue escrito para identificar qué libros fueron vendidos a partir de un listado especifico:"
   ]
  },
  {
   "cell_type": "markdown",
   "metadata": {},
   "source": [
    "Importamos todas nuestras librerías a utilizar. En este caso utilizamos time, pandas y numpy."
   ]
  },
  {
   "cell_type": "code",
   "execution_count": 1,
   "metadata": {},
   "outputs": [],
   "source": [
    "import time\n",
    "import pandas as pd\n",
    "import numpy as np"
   ]
  },
  {
   "cell_type": "markdown",
   "metadata": {},
   "source": [
    "Procedemos a abrir nuestros archivos .txt que son los que contienen los datos que analizaremos, y les asignamos\n",
    "un nombre que sea reconocible para utilizarlo posteriormente."
   ]
  },
  {
   "cell_type": "code",
   "execution_count": 2,
   "metadata": {},
   "outputs": [],
   "source": [
    "with open('libros_24_meses.txt') as f:\n",
    "    periodo24_ventas_libros = f.read().split('\\n')\n",
    "    \n",
    "with open('catalogo_libros.txt') as f:\n",
    "    catalogo_libros = f.read().split('\\n')"
   ]
  },
  {
   "cell_type": "markdown",
   "metadata": {},
   "source": [
    "1- Inicializamos nuestro time() que proviene de la librería time para empezar el conteo de los segundos al momento de la \n",
    "ejecución del programa.\n",
    "2- Creamos una lista vacía para asignarle datos posteriormente.\n",
    "3- Creamos un for para recorrer todos los libros que fueron vendidos que se encuentran en nuestro archivo libros_24_meses.txt \n",
    "antes nombrado como periodo24_ventas_libros.\n",
    "4- Creamos una condicion if para filtrar solamente los libros que han sido vendidos dentro de catalogo_libros.txt\n",
    "que nombramos catalogo_libros.\n",
    "5- Utilizamos el método append() para agregar todos los libros que fueron vendidos.\n",
    "6- Procedemos a arrojar nuestros resultados haciendo uso de print. Gracias al método len() podemos obtener la cantidad\n",
    "de items que se encuentran en nuestra lista. De igual manera imprimimos la duración de la ejecución en segundos."
   ]
  },
  {
   "cell_type": "code",
   "execution_count": 3,
   "metadata": {},
   "outputs": [
    {
     "name": "stdout",
     "output_type": "stream",
     "text": [
      "96\n",
      "Duracion: 10.756469011306763 segundos\n"
     ]
    }
   ],
   "source": [
    "inicio = time.time()\n",
    "libros_vendidos = []\n",
    "\n",
    "for libro in periodo24_ventas_libros:\n",
    "    if libro in catalogo_libros:\n",
    "        libros_vendidos.append(libro)\n",
    "\n",
    "print(len(libros_vendidos))\n",
    "print('Duracion: {} segundos'.format(time.time() - inicio))"
   ]
  },
  {
   "cell_type": "markdown",
   "metadata": {},
   "source": [
    "Asignacion 1: \n",
    "1- Iniciamos nuestra librería time() para empezar a contar los segundos de la ejecución del programa.\n",
    "2- Gracias a la librería NumPy y su función np.intersect1d podemos comparar dos matrices y arrojar solo los valores\n",
    "que se encuentran en ambas matrices.\n",
    "3- Procedemos a arrojar nuestros resultados haciendo uso de print. Gracias al método len() podemos obtener la cantidad\n",
    "de items que se encuentran en nuestra lista. De igual manera imprimimos la duración de la ejecución en segundos."
   ]
  },
  {
   "cell_type": "code",
   "execution_count": 4,
   "metadata": {},
   "outputs": [
    {
     "name": "stdout",
     "output_type": "stream",
     "text": [
      "96\n",
      "Duración: 0.04489564895629883 segundos\n"
     ]
    }
   ],
   "source": [
    "inicio = time.time()\n",
    "libros_vendidos = np.intersect1d(periodo24_ventas_libros, catalogo_libros)\n",
    "print(len(libros_vendidos))\n",
    "print('Duración: {} segundos'.format(time.time() - inicio))"
   ]
  },
  {
   "cell_type": "markdown",
   "metadata": {},
   "source": [
    "Asignacion 2:\n",
    "1- Iniciamos nuestra librería time() para empezar a contar los segundos de la ejecución del programa.\n",
    "2- Hacemos uso de la función set que viene por defecto en Python, gracias a ella podemos llevar a cabo una\n",
    "intersección entre nuestras listas, obteniendo como resultado solo los valores que fueron encontrados en ambas listas.\n",
    "3- Procedemos a arrojar nuestros resultados haciendo uso de print. Gracias al método len() podemos obtener la cantidad\n",
    "de items que se encuentran en nuestra lista. De igual manera imprimimos la duración de la ejecución en segundos."
   ]
  },
  {
   "cell_type": "code",
   "execution_count": 6,
   "metadata": {},
   "outputs": [
    {
     "name": "stdout",
     "output_type": "stream",
     "text": [
      "96\n",
      "Duración: 0.004877328872680664 segundos\n"
     ]
    }
   ],
   "source": [
    "inicio = time.time()\n",
    "\n",
    "libros_vendidos = set(periodo24_ventas_libros).intersection(catalogo_libros)\n",
    "\n",
    "print(len(libros_vendidos))\n",
    "print('Duración: {} segundos'.format(time.time() - inicio))"
   ]
  },
  {
   "cell_type": "code",
   "execution_count": null,
   "metadata": {},
   "outputs": [],
   "source": []
  }
 ],
 "metadata": {
  "kernelspec": {
   "display_name": "Python 3",
   "language": "python",
   "name": "python3"
  },
  "language_info": {
   "codemirror_mode": {
    "name": "ipython",
    "version": 3
   },
   "file_extension": ".py",
   "mimetype": "text/x-python",
   "name": "python",
   "nbconvert_exporter": "python",
   "pygments_lexer": "ipython3",
   "version": "3.7.6"
  }
 },
 "nbformat": 4,
 "nbformat_minor": 2
}
