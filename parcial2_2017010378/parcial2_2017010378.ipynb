{
 "cells": [
  {
   "cell_type": "markdown",
   "metadata": {},
   "source": [
    "Importar las librerías necesarias"
   ]
  },
  {
   "cell_type": "code",
   "execution_count": 4,
   "metadata": {},
   "outputs": [],
   "source": [
    "import numpy as np\n",
    "import time"
   ]
  },
  {
   "cell_type": "markdown",
   "metadata": {},
   "source": [
    "Creación de muestreo aleatorio simple"
   ]
  },
  {
   "cell_type": "code",
   "execution_count": 7,
   "metadata": {},
   "outputs": [],
   "source": [
    "estructura_datos = np.random.normal(loc = 500, scale = 30, size = 10000000)"
   ]
  },
  {
   "cell_type": "code",
   "execution_count": 8,
   "metadata": {},
   "outputs": [
    {
     "name": "stdout",
     "output_type": "stream",
     "text": [
      "El total de la inversión sin iva es: $ 4999922523.361997\n",
      "Duracion: 0.12880635261535645 segundos\n"
     ]
    }
   ],
   "source": [
    "ejecucion = time.time()\n",
    "\n",
    "matriz_puntos_menores = np.array(estructura_datos)\n",
    "puntos_menores = matriz_puntos_menores[matriz_puntos_menores < 500000]\n",
    "puntos_menores = np.sum(puntos_menores)\n",
    "\n",
    "print ('El total de la inversión sin iva es: $',puntos_menores)\n",
    "print ('Duracion: {} segundos'.format(time.time() - ejecucion))"
   ]
  },
  {
   "cell_type": "code",
   "execution_count": null,
   "metadata": {},
   "outputs": [],
   "source": []
  }
 ],
 "metadata": {
  "kernelspec": {
   "display_name": "Python 3",
   "language": "python",
   "name": "python3"
  },
  "language_info": {
   "codemirror_mode": {
    "name": "ipython",
    "version": 3
   },
   "file_extension": ".py",
   "mimetype": "text/x-python",
   "name": "python",
   "nbconvert_exporter": "python",
   "pygments_lexer": "ipython3",
   "version": "3.7.6"
  }
 },
 "nbformat": 4,
 "nbformat_minor": 4
}
