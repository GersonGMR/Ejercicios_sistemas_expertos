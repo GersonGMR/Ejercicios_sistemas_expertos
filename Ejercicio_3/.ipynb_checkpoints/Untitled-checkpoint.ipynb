{
 "cells": [
  {
   "cell_type": "code",
   "execution_count": null,
   "metadata": {},
   "outputs": [],
   "source": [
    "Ejercicio de asignacion sistemas expertos."
   ]
  },
  {
   "cell_type": "code",
   "execution_count": 20,
   "metadata": {},
   "outputs": [],
   "source": [
    "import time\n",
    "import numpy as np\n",
    "import pandas as pd"
   ]
  },
  {
   "cell_type": "code",
   "execution_count": 28,
   "metadata": {},
   "outputs": [],
   "source": [
    "with open('costos.txt') as cs:\n",
    "    lista_deseos_usuarios = list(map(int, cs.read().split('\\n')))"
   ]
  },
  {
   "cell_type": "code",
   "execution_count": null,
   "metadata": {},
   "outputs": [],
   "source": [
    "Primera solucion"
   ]
  },
  {
   "cell_type": "code",
   "execution_count": 35,
   "metadata": {},
   "outputs": [
    {
     "name": "stdout",
     "output_type": "stream",
     "text": [
      "El monto total es:  30338353\n",
      "Duracion: 0.8688158988952637 segundos\n"
     ]
    }
   ],
   "source": [
    "ejecucion = time.time()\n",
    "monto_a_pagar = []\n",
    "\n",
    "for seleccion in lista_deseos_usuarios:\n",
    "    if seleccion < 25:\n",
    "        monto_a_pagar.append(seleccion)\n",
    "        \n",
    "monto_a_pagar = sum(monto_a_pagar)\n",
    "\n",
    "print ('El monto total es: ',monto_a_pagar)\n",
    "print ('Duracion: {} segundos'.format(time.time() - ejecucion))"
   ]
  },
  {
   "cell_type": "code",
   "execution_count": null,
   "metadata": {},
   "outputs": [],
   "source": [
    "Segunda solucion"
   ]
  },
  {
   "cell_type": "code",
   "execution_count": 38,
   "metadata": {},
   "outputs": [
    {
     "name": "stdout",
     "output_type": "stream",
     "text": [
      "El total de la inversion es:  30338353\n",
      "Duracion: 0.6622238159179688 segundos\n"
     ]
    }
   ],
   "source": [
    "ejecucion = time.time()\n",
    "\n",
    "array_lista_deseos = np.array(lista_deseos_usuarios)\n",
    "monto_a_pagar = array_lista_deseos[array_lista_deseos < 25]\n",
    "\n",
    "monto_a_pagar = np.sum(monto_a_pagar)\n",
    "\n",
    "print ('El total de la inversion es: ',monto_a_pagar)\n",
    "print ('Duracion: {} segundos'.format(time.time() - ejecucion))"
   ]
  },
  {
   "cell_type": "code",
   "execution_count": null,
   "metadata": {},
   "outputs": [],
   "source": []
  }
 ],
 "metadata": {
  "kernelspec": {
   "display_name": "Python 3",
   "language": "python",
   "name": "python3"
  },
  "language_info": {
   "codemirror_mode": {
    "name": "ipython",
    "version": 3
   },
   "file_extension": ".py",
   "mimetype": "text/x-python",
   "name": "python",
   "nbconvert_exporter": "python",
   "pygments_lexer": "ipython3",
   "version": "3.7.6"
  }
 },
 "nbformat": 4,
 "nbformat_minor": 4
}
