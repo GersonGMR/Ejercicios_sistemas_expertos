{
 "cells": [
  {
   "cell_type": "markdown",
   "metadata": {},
   "source": [
    "Ejercicio de asignacion sistemas expertos."
   ]
  },
  {
   "cell_type": "markdown",
   "metadata": {},
   "source": [
    "Empezamos importando nuestras librerías, en este caso time para obtener la duración de nuestra ejecución y\n",
    "NumPy y pandas para el analisis de nuestros datos."
   ]
  },
  {
   "cell_type": "code",
   "execution_count": 2,
   "metadata": {},
   "outputs": [],
   "source": [
    "import time\n",
    "import numpy as np\n",
    "import pandas as pd"
   ]
  },
  {
   "cell_type": "markdown",
   "metadata": {},
   "source": [
    "Ahora necesitamos abrir y leer nuestro archivo costos.txt que contiene todos los datos que necesitamos analizar.\n",
    "Le asignamos un nombre para reconocerlo fácilmente, en este caso: lista_deseos_usuarios"
   ]
  },
  {
   "cell_type": "code",
   "execution_count": 3,
   "metadata": {},
   "outputs": [],
   "source": [
    "with open('costos.txt') as cs:\n",
    "    lista_deseos_usuarios = list(map(int, cs.read().split('\\n')))"
   ]
  },
  {
   "cell_type": "markdown",
   "metadata": {},
   "source": [
    "Primera solucion:\n",
    "1- Ejecutamos la función time() para empezar a contar el tiempo de duración desde el momento en que ejecutamos el programa.\n",
    "2- Creamos una lista vacía para posteriormente asignarle valores.\n",
    "3- Iniciamos un for para recorrer todos los items seleccionados por los usuarios que se alojan en lista_deseos_usuarios.\n",
    "4- Creamos una condición if para filtrar solamente los items seleccionados por los usuarios que tengan un valor menor a 25.\n",
    "5- Con los datos filtrados se los asignamos a nuestra lista vacía monto_a_pagar.\n",
    "6- Gracias a la función sum de Python podemos obtener el total de la inversión de la empresa sumando todos los valores\n",
    "que fueron asignados a nuestra lista monto_a_pagar.\n",
    "7- Imprimimos el total de inversión y el tiempo de ejecución."
   ]
  },
  {
   "cell_type": "code",
   "execution_count": 35,
   "metadata": {},
   "outputs": [
    {
     "name": "stdout",
     "output_type": "stream",
     "text": [
      "El monto total es:  30338353\n",
      "Duracion: 0.8688158988952637 segundos\n"
     ]
    }
   ],
   "source": [
    "ejecucion = time.time()\n",
    "monto_a_pagar = []\n",
    "\n",
    "for seleccion in lista_deseos_usuarios:\n",
    "    if seleccion < 25:\n",
    "        monto_a_pagar.append(seleccion)\n",
    "        \n",
    "monto_a_pagar = sum(monto_a_pagar)\n",
    "\n",
    "print ('El monto total es: ',monto_a_pagar)\n",
    "print ('Duracion: {} segundos'.format(time.time() - ejecucion))"
   ]
  },
  {
   "cell_type": "markdown",
   "metadata": {},
   "source": [
    "Segunda solucion:\n",
    "1- Iniciamos el conteo para obtener la duración de ejecución del programa.\n",
    "2- Creamos una matriz a partir de nuestra lista_deseos_usuarios, utilizando las matrices de NumPy (np.array).\n",
    "3- Filtramos todos los valores dentro de nuestra matriz que sean menores a 25 y los almacenamos en monto_a_pagar.\n",
    "4- Haciendo uso de la función de NumPy (np.sum) sumamos todos los valores filtrados anteriormente.\n",
    "5- Para obtener el total neto de la inversión recordando que aplicamos el 13% de impuesto hacemos una multiplicación, de 1.13 por el total obtenido sin impuestos, utilizamos 1.13 para realizar la suma total en lugar de 0.13 ya que de esta forma simplificamos el codigo.\n",
    "6- Para obtener la cantidad de impuestos que se aplicaron hacemos una resta de nuestro total_neto menos el total_sin_iva\n",
    "5- Imprimimos el total sin iva de la inversión de la empresa, el total neto de la inversión, el total de impuestos que se aplicaron y el tiempo de duración del programa en segundos."
   ]
  },
  {
   "cell_type": "code",
   "execution_count": 19,
   "metadata": {},
   "outputs": [
    {
     "name": "stdout",
     "output_type": "stream",
     "text": [
      "El total de la inversión sin iva es: $ 30338353\n",
      "El total neto de la inversión es: $ 34282338.88999999\n",
      "La diferencia entre el costo sin iva vs el costo con iva es: $ 3943985.889999993\n",
      "Duracion: 0.7564239501953125 segundos\n"
     ]
    }
   ],
   "source": [
    "ejecucion = time.time()\n",
    "\n",
    "array_lista_deseos = np.array(lista_deseos_usuarios)\n",
    "total_sin_iva = array_lista_deseos[array_lista_deseos < 25]\n",
    "total_sin_iva = np.sum(total_sin_iva)\n",
    "\n",
    "total_neto = 1.13 * total_sin_iva\n",
    "diferencia_costos = total_neto - total_sin_iva\n",
    "\n",
    "print ('El total de la inversión sin iva es: $',total_sin_iva)\n",
    "print ('El total neto de la inversión es: $',total_neto)\n",
    "print ('La diferencia entre el costo sin iva vs el costo con iva es: $',diferencia_costos)\n",
    "print ('Duracion: {} segundos'.format(time.time() - ejecucion))"
   ]
  },
  {
   "cell_type": "code",
   "execution_count": null,
   "metadata": {},
   "outputs": [],
   "source": []
  }
 ],
 "metadata": {
  "kernelspec": {
   "display_name": "Python 3",
   "language": "python",
   "name": "python3"
  },
  "language_info": {
   "codemirror_mode": {
    "name": "ipython",
    "version": 3
   },
   "file_extension": ".py",
   "mimetype": "text/x-python",
   "name": "python",
   "nbconvert_exporter": "python",
   "pygments_lexer": "ipython3",
   "version": "3.7.6"
  }
 },
 "nbformat": 4,
 "nbformat_minor": 4
}
