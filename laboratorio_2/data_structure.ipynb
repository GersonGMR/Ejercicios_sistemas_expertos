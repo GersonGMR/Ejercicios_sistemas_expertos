{
 "cells": [
  {
   "cell_type": "code",
   "execution_count": 1,
   "metadata": {},
   "outputs": [],
   "source": [
    "import numpy as np\n",
    "import time"
   ]
  },
  {
   "cell_type": "markdown",
   "metadata": {},
   "source": [
    "Creación de estructura de datos con np.random"
   ]
  },
  {
   "cell_type": "code",
   "execution_count": 4,
   "metadata": {},
   "outputs": [],
   "source": [
    "estructura_datos = np.random.normal(loc = 500, scale = 30, size = 10000000)"
   ]
  },
  {
   "cell_type": "code",
   "execution_count": 8,
   "metadata": {},
   "outputs": [
    {
     "name": "stdout",
     "output_type": "stream",
     "text": [
      "La suma total de los datos es:  4999953491.1006565\n",
      "Duracion: 5.0081939697265625 segundos\n"
     ]
    }
   ],
   "source": [
    "ejecucion = time.time()\n",
    "puntos_menores = []\n",
    "\n",
    "for puntos in estructura_datos:\n",
    "    if puntos < 500000:\n",
    "        puntos_menores.append(puntos)\n",
    "\n",
    "puntos_menores = np.sum(puntos_menores)\n",
    "\n",
    "print ('La suma total de los datos es: ',(puntos_menores))\n",
    "print ('Duracion: {} segundos'.format(time.time() - ejecucion))"
   ]
  },
  {
   "cell_type": "code",
   "execution_count": null,
   "metadata": {},
   "outputs": [],
   "source": []
  }
 ],
 "metadata": {
  "kernelspec": {
   "display_name": "Python 3",
   "language": "python",
   "name": "python3"
  },
  "language_info": {
   "codemirror_mode": {
    "name": "ipython",
    "version": 3
   },
   "file_extension": ".py",
   "mimetype": "text/x-python",
   "name": "python",
   "nbconvert_exporter": "python",
   "pygments_lexer": "ipython3",
   "version": "3.7.6"
  }
 },
 "nbformat": 4,
 "nbformat_minor": 4
}
